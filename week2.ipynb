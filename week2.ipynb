{
  "nbformat": 4,
  "nbformat_minor": 0,
  "metadata": {
    "colab": {
      "provenance": [],
      "authorship_tag": "ABX9TyOpk1QaayvU04mQQKxeHPQ2",
      "include_colab_link": true
    },
    "kernelspec": {
      "name": "python3",
      "display_name": "Python 3"
    },
    "language_info": {
      "name": "python"
    }
  },
  "cells": [
    {
      "cell_type": "markdown",
      "metadata": {
        "id": "view-in-github",
        "colab_type": "text"
      },
      "source": [
        "<a href=\"https://colab.research.google.com/github/PriyoGhosh02/EDGE-Programming-Python/blob/main/week2.ipynb\" target=\"_parent\"><img src=\"https://colab.research.google.com/assets/colab-badge.svg\" alt=\"Open In Colab\"/></a>"
      ]
    },
    {
      "cell_type": "code",
      "execution_count": 1,
      "metadata": {
        "colab": {
          "base_uri": "https://localhost:8080/"
        },
        "id": "q6rrY8atuzJq",
        "outputId": "521f57d0-1f37-4aaa-a586-912faed86c12"
      },
      "outputs": [
        {
          "output_type": "stream",
          "name": "stdout",
          "text": [
            "Hello\n"
          ]
        }
      ],
      "source": [
        "print(\"Hello\")"
      ]
    },
    {
      "cell_type": "code",
      "source": [
        "n=int(input(\"Enter the Number of Movie: \"))\n",
        "movie=[]\n",
        "\n",
        "for i in range (n):\n",
        "    ele=input(\"Enter the Movie Name: \")\n",
        "    movie.append(ele)\n",
        "print(movie)\n",
        "print(movie[1])\n",
        "\n",
        "movie.append(\"Maya\")\n",
        "print(movie)\n",
        "\n",
        "movie.pop(0)\n",
        "print(movie)\n",
        "\n"
      ],
      "metadata": {
        "colab": {
          "base_uri": "https://localhost:8080/"
        },
        "id": "SXrvXrxKx5Gh",
        "outputId": "6e76d47d-0588-44a9-b136-152dd28c0470"
      },
      "execution_count": 3,
      "outputs": [
        {
          "output_type": "stream",
          "name": "stdout",
          "text": [
            "Enter the Number of Movie: 3\n",
            "Enter the Movie Name: Inception\n",
            "Enter the Movie Name: Titanic\n",
            "Enter the Movie Name: Avatar\n",
            "['Inception', 'Titanic', 'Avatar']\n",
            "Titanic\n",
            "['Inception', 'Titanic', 'Avatar', 'Maya']\n",
            "['Titanic', 'Avatar', 'Maya']\n"
          ]
        }
      ]
    },
    {
      "cell_type": "code",
      "source": [
        "book={'title':'Algorithm','author':'josef','year':'2023','genre':''}\n",
        "\n",
        "print(f\"Title: {book['title']}\")\n",
        "\n",
        "book.update({'year':'2024'})\n",
        "print(book)"
      ],
      "metadata": {
        "colab": {
          "base_uri": "https://localhost:8080/"
        },
        "id": "A80PXGq_yPEb",
        "outputId": "071300cb-06ab-489c-ac19-ec61d737c066"
      },
      "execution_count": 4,
      "outputs": [
        {
          "output_type": "stream",
          "name": "stdout",
          "text": [
            "Title: Algorithm\n",
            "{'title': 'Algorithm', 'author': 'josef', 'year': '2024', 'genre': ''}\n"
          ]
        }
      ]
    },
    {
      "cell_type": "code",
      "source": [
        "topple=(\"Priyo\",24,3.5)\n",
        "\n",
        "for i in range(len(topple)):\n",
        " print(topple[i])"
      ],
      "metadata": {
        "colab": {
          "base_uri": "https://localhost:8080/"
        },
        "id": "Yc76TivayeSz",
        "outputId": "4d9a37f9-81a2-4ed3-a45b-ff8cf01fd85f"
      },
      "execution_count": 5,
      "outputs": [
        {
          "output_type": "stream",
          "name": "stdout",
          "text": [
            "Priyo\n",
            "24\n",
            "3.5\n"
          ]
        }
      ]
    },
    {
      "cell_type": "code",
      "source": [
        "a = {1, 2, 3, 4, 5}\n",
        "b = {4, 5, 6, 7, 8}\n",
        "u = a|b\n",
        "\n",
        "intersection = a & b\n",
        "\n",
        "u = u - intersection\n",
        "\n",
        "print(u)\n"
      ],
      "metadata": {
        "colab": {
          "base_uri": "https://localhost:8080/"
        },
        "id": "YjtyyTQpynK_",
        "outputId": "c863adc7-b04b-4e49-9240-fdeb4577f6b4"
      },
      "execution_count": 6,
      "outputs": [
        {
          "output_type": "stream",
          "name": "stdout",
          "text": [
            "{1, 2, 3, 6, 7, 8}\n"
          ]
        }
      ]
    },
    {
      "cell_type": "code",
      "source": [
        "f_name=input(\"Enter first name: \")\n",
        "l_name=input(\"Enter last name: \")\n",
        "\n",
        "print(f\"Hello, {f_name} {l_name} ! Welcome to Python programming.\")"
      ],
      "metadata": {
        "colab": {
          "base_uri": "https://localhost:8080/"
        },
        "id": "1hIhiQajyt-a",
        "outputId": "3b8cdc4c-d48d-4da5-8196-8ba3bba5c419"
      },
      "execution_count": 8,
      "outputs": [
        {
          "output_type": "stream",
          "name": "stdout",
          "text": [
            "Enter first name: Priyo\n",
            "Enter last name: Ghosh\n",
            "Hello, Priyo Ghosh ! Welcome to Python programming.\n"
          ]
        }
      ]
    }
  ]
}